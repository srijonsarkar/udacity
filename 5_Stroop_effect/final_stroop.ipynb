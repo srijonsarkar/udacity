{
 "cells": [
  {
   "cell_type": "markdown",
   "metadata": {},
   "source": [
    "## STROOP PHENOMENON\n",
    "\n",
    " In this notebook, we are going to analyse the response times of different people in the experiment. The experiment records the time required by the person to read a set of congruent and incongruent words. We will perform some statistical tests on the dataset and see if any conclusion can be derived from it.\n",
    "\n"
   ]
  },
  {
   "cell_type": "code",
   "execution_count": 1,
   "metadata": {
    "collapsed": true
   },
   "outputs": [],
   "source": [
    "import pandas as pd\n",
    "import numpy as np\n",
    "import matplotlib\n",
    "import matplotlib.pyplot as plt\n",
    "matplotlib.style.use(\"ggplot\")\n",
    "% matplotlib inline\n"
   ]
  },
  {
   "cell_type": "code",
   "execution_count": 2,
   "metadata": {
    "collapsed": false
   },
   "outputs": [
    {
     "data": {
      "text/html": [
       "<div>\n",
       "<table border=\"1\" class=\"dataframe\">\n",
       "  <thead>\n",
       "    <tr style=\"text-align: right;\">\n",
       "      <th></th>\n",
       "      <th>Congruent</th>\n",
       "      <th>Incongruent</th>\n",
       "    </tr>\n",
       "  </thead>\n",
       "  <tbody>\n",
       "    <tr>\n",
       "      <th>0</th>\n",
       "      <td>12.079</td>\n",
       "      <td>19.278</td>\n",
       "    </tr>\n",
       "    <tr>\n",
       "      <th>1</th>\n",
       "      <td>16.791</td>\n",
       "      <td>18.741</td>\n",
       "    </tr>\n",
       "    <tr>\n",
       "      <th>2</th>\n",
       "      <td>9.564</td>\n",
       "      <td>21.214</td>\n",
       "    </tr>\n",
       "    <tr>\n",
       "      <th>3</th>\n",
       "      <td>8.630</td>\n",
       "      <td>15.687</td>\n",
       "    </tr>\n",
       "    <tr>\n",
       "      <th>4</th>\n",
       "      <td>14.669</td>\n",
       "      <td>22.803</td>\n",
       "    </tr>\n",
       "  </tbody>\n",
       "</table>\n",
       "</div>"
      ],
      "text/plain": [
       "   Congruent  Incongruent\n",
       "0     12.079       19.278\n",
       "1     16.791       18.741\n",
       "2      9.564       21.214\n",
       "3      8.630       15.687\n",
       "4     14.669       22.803"
      ]
     },
     "execution_count": 2,
     "metadata": {},
     "output_type": "execute_result"
    }
   ],
   "source": [
    "df = pd.read_csv('stroopdata.csv')\n",
    "df.head()"
   ]
  },
  {
   "cell_type": "code",
   "execution_count": 9,
   "metadata": {
    "collapsed": false
   },
   "outputs": [
    {
     "data": {
      "text/plain": [
       "7.964791666666667"
      ]
     },
     "execution_count": 9,
     "metadata": {},
     "output_type": "execute_result"
    }
   ],
   "source": [
    "diffs = df['Incongruent'] - df['Congruent']\n",
    "diffs.mean()  ####mean difference"
   ]
  },
  {
   "cell_type": "code",
   "execution_count": 10,
   "metadata": {
    "collapsed": false
   },
   "outputs": [
    {
     "data": {
      "text/plain": [
       "4.864826910359056"
      ]
     },
     "execution_count": 10,
     "metadata": {},
     "output_type": "execute_result"
    }
   ],
   "source": [
    "diffs.std()        ###standard deviation of diffs"
   ]
  },
  {
   "cell_type": "markdown",
   "metadata": {},
   "source": [
    "In this dataset, the independent variable is the set of words which are being displayed, they might be congruent on incongruent. That is the only activity which is being controlled by us, and the response times are the dependent variables. Different set of congruent/incongruent variables lead to different response times . Hence, the dependent variables are the Congruent and Incongruent times."
   ]
  },
  {
   "cell_type": "code",
   "execution_count": 3,
   "metadata": {
    "collapsed": false
   },
   "outputs": [
    {
     "data": {
      "text/html": [
       "<div>\n",
       "<table border=\"1\" class=\"dataframe\">\n",
       "  <thead>\n",
       "    <tr style=\"text-align: right;\">\n",
       "      <th></th>\n",
       "      <th>Congruent</th>\n",
       "      <th>Incongruent</th>\n",
       "    </tr>\n",
       "  </thead>\n",
       "  <tbody>\n",
       "    <tr>\n",
       "      <th>count</th>\n",
       "      <td>24.000000</td>\n",
       "      <td>24.000000</td>\n",
       "    </tr>\n",
       "    <tr>\n",
       "      <th>mean</th>\n",
       "      <td>14.051125</td>\n",
       "      <td>22.015917</td>\n",
       "    </tr>\n",
       "    <tr>\n",
       "      <th>std</th>\n",
       "      <td>3.559358</td>\n",
       "      <td>4.797057</td>\n",
       "    </tr>\n",
       "    <tr>\n",
       "      <th>min</th>\n",
       "      <td>8.630000</td>\n",
       "      <td>15.687000</td>\n",
       "    </tr>\n",
       "    <tr>\n",
       "      <th>25%</th>\n",
       "      <td>11.895250</td>\n",
       "      <td>18.716750</td>\n",
       "    </tr>\n",
       "    <tr>\n",
       "      <th>50%</th>\n",
       "      <td>14.356500</td>\n",
       "      <td>21.017500</td>\n",
       "    </tr>\n",
       "    <tr>\n",
       "      <th>75%</th>\n",
       "      <td>16.200750</td>\n",
       "      <td>24.051500</td>\n",
       "    </tr>\n",
       "    <tr>\n",
       "      <th>max</th>\n",
       "      <td>22.328000</td>\n",
       "      <td>35.255000</td>\n",
       "    </tr>\n",
       "  </tbody>\n",
       "</table>\n",
       "</div>"
      ],
      "text/plain": [
       "       Congruent  Incongruent\n",
       "count  24.000000    24.000000\n",
       "mean   14.051125    22.015917\n",
       "std     3.559358     4.797057\n",
       "min     8.630000    15.687000\n",
       "25%    11.895250    18.716750\n",
       "50%    14.356500    21.017500\n",
       "75%    16.200750    24.051500\n",
       "max    22.328000    35.255000"
      ]
     },
     "execution_count": 3,
     "metadata": {},
     "output_type": "execute_result"
    }
   ],
   "source": [
    "df.describe()"
   ]
  },
  {
   "cell_type": "code",
   "execution_count": 4,
   "metadata": {
    "collapsed": false
   },
   "outputs": [
    {
     "data": {
      "text/plain": [
       "Congruent      3.559358\n",
       "Incongruent    4.797057\n",
       "dtype: float64"
      ]
     },
     "execution_count": 4,
     "metadata": {},
     "output_type": "execute_result"
    }
   ],
   "source": [
    "df.std()"
   ]
  },
  {
   "cell_type": "markdown",
   "metadata": {},
   "source": [
    ">From here, we can see that the mean completion time for the congruent set of words is ~14 seconds , while mean time for the incongruent set is ~22 sec.\n",
    ">\n",
    ">The median time of completion in congruent set is ~14 sec, while for incongruent set it is ~21 sec.\n",
    ">\n",
    ">The standard deviation of congruent times is 3.55, while of incongruent times is 4.79 . \n",
    ">\n",
    ">Let us now plot the response times of each participant."
   ]
  },
  {
   "cell_type": "code",
   "execution_count": 5,
   "metadata": {
    "collapsed": false
   },
   "outputs": [
    {
     "data": {
      "image/png": "[encoded data removed]",
      "text/plain": [
       "<matplotlib.figure.Figure at 0x219f023bda0>"
      ]
     },
     "metadata": {},
     "output_type": "display_data"
    }
   ],
   "source": [
    "df.plot(kind='bar', color=['red', 'black'], figsize=(19,9), alpha=0.8);\n",
    "plt.title('Response times of participants');\n",
    "plt.xlabel('Participant Number');\n",
    "plt.ylabel('Response time');"
   ]
  },
  {
   "cell_type": "markdown",
   "metadata": {},
   "source": [
    "We notice that in most cases, there is a big difference in the times of the congruent and inconguent sets. Let's plot a bar chart of only the differences to highlight it more clearly."
   ]
  },
  {
   "cell_type": "code",
   "execution_count": 13,
   "metadata": {
    "collapsed": false
   },
   "outputs": [
    {
     "data": {
      "image/png": "[encoded data removed]",
      "text/plain": [
       "<matplotlib.figure.Figure at 0x219f0fcad68>"
      ]
     },
     "metadata": {},
     "output_type": "display_data"
    }
   ],
   "source": [
    "(df['Incongruent'] - df['Congruent']).plot(kind='bar', color='red', figsize=(14,7), alpha=0.8);\n",
    "plt.title('Difference b/n Incongruent and Incongruent');\n",
    "plt.xlabel('Participant no.');\n",
    "plt.ylabel('Diffference in secs');"
   ]
  },
  {
   "cell_type": "markdown",
   "metadata": {},
   "source": [
    "We can see that most participants have a difference close to 8 seconds, and a few also have a difference of 8+ seconds."
   ]
  },
  {
   "cell_type": "markdown",
   "metadata": {},
   "source": [
    "#### STATISTICAL TEST\n",
    "\n",
    "What we would like to know if there is an actual significant difference in the congruence and incongruence times.\n",
    "Let us set a hypothesis testing the difference in average response times to the different sets. The statistic being tested is the difference in population mean of response times, with a tolerance of 5% Type I error. The hypothesis's are :\n",
    "    \n",
    "   >Null hypothesis will be : **$u_{incongruent}$** - **$u_{congruent}$** <= 0\n",
    "   >\n",
    "   >Alternate hypothesis will be : **$u_{incongruent}$** -**$u_{congruent}$** > 0\n",
    "   >\n",
    "   >here u is the population mean response time\n",
    "   >\n",
    "   >The test will be a Paired one-tail T-test( dependent test) with 2 tests per participant. We will proceed with a t-test, rather than a z-test because not only do we not have the population standard deviation, our sample size is also below 30. A t-test is appropriate here because we are trying to find a significant difference in between the mean response times. \n",
    "   >\n",
    "   ><b>Assumptions involved</b>:\n",
    "   > The dependent variable is continuous, the observations are independent of one another, the dependent variable is approximately normally distributed and that the dependent variable doesn't contain any outliers. "
   ]
  },
  {
   "cell_type": "markdown",
   "metadata": {},
   "source": [
    "#### STATISTIC TESTS\n",
    "><b>sample size (n) </b> : 24                \n",
    ">\n",
    "><b>mean difference(d) (calculated above)</b> = (df['Incongruent'] - df['Congruent'])/n = 7.964\n",
    ">\n",
    "><b>standard deviation(calculated above)</b> = 4.86\n",
    ">\n",
    "><b>Standard error of difference  SE(d) </b> = sd/sqrt(n) = 4.86/sqrt(24) = 0.99\n",
    ">\n",
    "><b>t-Statistic</b> T = d/SE(d) = 7.964/0.99 = 8.04\n",
    ">\n",
    "><b>Calculating p-value by looking up the t-distribution with df=23(n-1) : </b> Looking up the table, we see that our p-value is much less than 0.0005, for the given T-stat. \n"
   ]
  },
  {
   "cell_type": "markdown",
   "metadata": {},
   "source": [
    "#### CONCLUSION\n",
    "> The p-value is much less than the critical p-value(0.05). Hence we can safely conclude that there is a significant difference in the response times of participants in congruent and incongruent set of words. The null hypothesis is hence rejected. "
   ]
  },
  {
   "cell_type": "markdown",
   "metadata": {},
   "source": [
    "This result matches with what I expected. "
   ]
  }
 ],
 "metadata": {
  "anaconda-cloud": {},
  "kernelspec": {
   "display_name": "Python [Anaconda3]",
   "language": "python",
   "name": "Python [Anaconda3]"
  },
  "language_info": {
   "codemirror_mode": {
    "name": "ipython",
    "version": 3
   },
   "file_extension": ".py",
   "mimetype": "text/x-python",
   "name": "python",
   "nbconvert_exporter": "python",
   "pygments_lexer": "ipython3",
   "version": "3.5.2"
  }
 },
 "nbformat": 4,
 "nbformat_minor": 0
}
